{
  "nbformat": 4,
  "nbformat_minor": 0,
  "metadata": {
    "colab": {
      "provenance": []
    },
    "kernelspec": {
      "name": "python3",
      "display_name": "Python 3"
    },
    "language_info": {
      "name": "python"
    },
    "accelerator": "GPU",
    "gpuClass": "standard"
  },
  "cells": [
    {
      "cell_type": "code",
      "execution_count": null,
      "metadata": {
        "colab": {
          "base_uri": "https://localhost:8080/"
        },
        "id": "9E8F1HqbVeU6",
        "outputId": "ddbdc26c-d508-4c9c-a0ad-a8cc2cb6686b"
      },
      "outputs": [
        {
          "output_type": "stream",
          "name": "stdout",
          "text": [
            "Mounted at /content/drive\n"
          ]
        }
      ],
      "source": [
        "import cv2\n",
        "import numpy as np\n",
        "import types\n",
        "from google.colab.patches import cv2_imshow # google colab crashes if you try to display\n",
        "#image using cv2.imshow() thus use this import\n",
        "from google.colab import drive\n",
        "drive.mount('/content/drive')"
      ]
    },
    {
      "cell_type": "code",
      "source": [
        "#to convert the different types into binary\n",
        "def messageToBinary(message):\n",
        "  if (isinstance(message, str)):\n",
        "    return ''.join([format(ord(i),'08b') for i in message])\n",
        "  elif (isinstance(message, bytes) or isinstance(message, np.ndarray)):\n",
        "    return [format(i,'08b') for i in message]\n",
        "  elif (isinstance(message, int) or isinstance(message, np.uint8)):\n",
        "    return format(message,'08b')\n",
        "  else:\n",
        "    raise TypeError('Input Type Not Supported')"
      ],
      "metadata": {
        "id": "gIFCvknlVo6r"
      },
      "execution_count": null,
      "outputs": []
    },
    {
      "cell_type": "code",
      "source": [
        "#to hide secret msg into image\n",
        "def hideData(image,secret_message):\n",
        "  #calculate the maximum bytes to encode\n",
        "  n_bytes = image.shape[0] * image.shape[1] * 3 // 8\n",
        "  print('Maximum bytes to encode:',n_bytes)\n",
        "  #check if the number of bytes to encode is less than the maximum bytes in the image\n",
        "  if (len(secret_message) > n_bytes):\n",
        "    raise ValueError('Error encountered insufficient bytes, need bigger image or less data!!')\n",
        "  secret_message += '#####' #you can use any string as a delimeter\n",
        "  data_index = 0\n",
        "  #convert input data to binary format using messageToBinary()\n",
        "  binary_secret_msg = messageToBinary(secret_message)\n",
        "  data_len = len(binary_secret_msg) #Find the length of data that needs to be hidden\n",
        "  print(data_len)\n",
        "  for values in image:\n",
        "    for pixel in values:\n",
        "      #convert rgb values to binary format\n",
        "      r, g, b  = messageToBinary(pixel)\n",
        "      #modify the lsb only if there is \n",
        "      if (data_index < data_len):\n",
        "        #hide the data into lsb of red pixel\n",
        "        pixel[0] = int (r[:-1] + binary_secret_msg[data_index], 2)\n",
        "        data_index += 1\n",
        "      if (data_index < data_len):\n",
        "        #hide the data into lsb of green pixel\n",
        "        pixel[1] = int (g[:-1] + binary_secret_msg[data_index], 2)\n",
        "        data_index += 1\n",
        "      if (data_index < data_len):\n",
        "        #hide the data into lsb of blue pixel\n",
        "        pixel[2] = int (b[:-1] + binary_secret_msg[data_index], 2)\n",
        "        data_index += 1\n",
        "      #if data is encoded just break out of the loop\n",
        "      if (data_index >= data_len):\n",
        "        break\n",
        "  print(data_index)\n",
        "  return image"
      ],
      "metadata": {
        "id": "XJM4XcFoV35Z"
      },
      "execution_count": null,
      "outputs": []
    },
    {
      "cell_type": "code",
      "source": [
        "def showData(image):\n",
        "  binary_data = ''\n",
        "  for values in image:\n",
        "    for pixel in values:\n",
        "      r, g, b = messageToBinary(pixel) #convert the red, green and blue values intpo binary format\n",
        "      binary_data += r[-1] #extracting data from the lsb of red pixel\n",
        "      binary_data += g[-1] #extraxting data from the lsb of green pixel\n",
        "      binary_data += b[-1] #extracting data from the lsb of blue pixel\n",
        "  print(binary_data)\n",
        "  #split by 8 bits\n",
        "  all_bytes = [ binary_data[i: i+8] for i in range(0,len(binary_data),8)]\n",
        "  #convert from bits into characters\n",
        "  decoded_data = ''\n",
        "  for byte in all_bytes:\n",
        "    decoded_data += chr( int (byte,2))\n",
        "    if (decoded_data[-5:] == '#####'): #check if we have reached the delimeter which is '#####'\n",
        "      break\n",
        "  print(decoded_data)\n",
        "  return decoded_data[:-5]"
      ],
      "metadata": {
        "id": "exujGQ8DV-MP"
      },
      "execution_count": null,
      "outputs": []
    },
    {
      "cell_type": "code",
      "source": [
        "#encode data into image\n",
        "def encode_text():\n",
        "  image_name = input('Enter the image name(with extension): ')\n",
        "  image = cv2.imread('/content/drive/My Drive/Colab Notebooks/'+image_name) # Read the input image using OpenCV-Python.\n",
        "  #It is a library of Python bindings designed to solve computer vision problems.\n",
        "  #details of the image\n",
        "  print(\"The shape of the image is: \",image.shape) #check the shape of image to calculate the number of bytes in it\n",
        "  print(\"The original image is as shown below: \")\n",
        "  resized_image = cv2.resize(image, (100, 100)) #resize the image as per your requirement\n",
        "  cv2_imshow(resized_image) #display the image\n",
        "  data = input(\"Enter data to be encoded : \") \n",
        "  if (len(data) == 0): \n",
        "    raise ValueError('Data is empty')\n",
        "  \n",
        "  filename = input(\"Enter the name of new encoded image(with extension): \")\n",
        "  encoded_image = hideData(image, data) # call the hideData function to hide the secret message into the selected image\n",
        "  cv2.imwrite('/content/drive/My Drive/Colab Notebooks/'+filename, encoded_image)\n",
        "\n",
        "     "
      ],
      "metadata": {
        "id": "T21LtOfSWBqI"
      },
      "execution_count": null,
      "outputs": []
    },
    {
      "cell_type": "code",
      "source": [
        "#Decode the data in the image\n",
        "def decode_text():\n",
        "  #read the image that contains the hidden image\n",
        "  image_name = input('Enter the name of the steganographed image that you want to decode (with extension): ')\n",
        "  image = cv2.imread('/content/drive/My Drive/Colab Notebooks/'+image_name)#read the image using cv2.imread()\n",
        "  print(\"The Steganographed image is as shown below: \")\n",
        "  resized_image = cv2.resize(image, (100, 100))  #resize the original image as per your requirement\n",
        "  cv2_imshow(resized_image) #display the Steganographed image\n",
        "  text = showData(image)\n",
        "  return text"
      ],
      "metadata": {
        "id": "28T0FRvJWW03"
      },
      "execution_count": null,
      "outputs": []
    },
    {
      "cell_type": "code",
      "source": [
        "# Image Steganography         \n",
        "def Steganography(): \n",
        "    a = input(\"Image Steganography \\n 1. Encode the data \\n 2. Decode the data \\n Your input is: \")\n",
        "    userinput = int(a)\n",
        "    if (userinput == 1):\n",
        "      print(\"\\nEncoding....\")\n",
        "      encode_text() \n",
        "          \n",
        "    elif (userinput == 2):\n",
        "      print(\"\\nDecoding....\") \n",
        "      print(\"Decoded message is \" + decode_text()) \n",
        "    else: \n",
        "        raise Exception(\"Enter correct input\") \n",
        "          \n",
        "Steganography() #encode image"
      ],
      "metadata": {
        "id": "cWFafJVNWbJH"
      },
      "execution_count": null,
      "outputs": []
    },
    {
      "cell_type": "code",
      "source": [],
      "metadata": {
        "id": "7EX8u9wmWeaP"
      },
      "execution_count": null,
      "outputs": []
    }
  ]
}